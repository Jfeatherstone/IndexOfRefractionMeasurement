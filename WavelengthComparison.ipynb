{
 "cells": [
  {
   "cell_type": "code",
   "execution_count": 3,
   "id": "57b947be-caeb-4eec-bd25-3ea6cb6da713",
   "metadata": {},
   "outputs": [],
   "source": [
    "import numpy as np\n",
    "import matplotlib.pyplot as plt\n",
    "\n",
    "plt.rcParams['figure.dpi'] = 120\n",
    "plt.rcParams['font.size'] = 11\n",
    "\n",
    "from scipy.optimize import curve_fit\n",
    "\n",
    "import pandas as pd"
   ]
  },
  {
   "cell_type": "code",
   "execution_count": 4,
   "id": "abe85d47-4475-49a9-80b3-adbac0b39fd6",
   "metadata": {},
   "outputs": [],
   "source": [
    "n0 = 1.00029 # Weisstein Eric. Index of Refraction. Wolfram Research. 2005.\n",
    "\n",
    "# Path to the files that we will be reading data from\n",
    "fileArr = ['data/sapphire_disk_706nm.txt', 'data/sapphire_disk_852nm.txt', 'data/sapphire_disk_1014nm.txt']\n",
    "wavelengthArr = [706, 852, 1014]\n",
    "\n",
    "# The width of the sample in mm\n",
    "d = 2.29 # for sapphire sample"
   ]
  },
  {
   "cell_type": "code",
   "execution_count": 15,
   "id": "e00ef026-687e-400a-a322-d025038adc7b",
   "metadata": {},
   "outputs": [],
   "source": [
    "# Functional form of the displacement as a function of angle,\n",
    "# including extra parameters for phase and displacement offsets\n",
    "# Theta should be in radians\n",
    "def func_form(theta, a0, a1, a2):\n",
    "    return a0 + d*np.sin(theta - a1)*(1 - (n0 * np.cos(theta - a1))/np.sqrt(a2**2 - n0**2 * np.sin(theta - a1)**2))\n",
    "\n",
    "nArr = np.zeros(len(fileArr))\n",
    "\n",
    "for i in range(len(fileArr)):\n",
    "    # Read the data file\n",
    "    data = pd.read_csv(fileArr[i])\n",
    "\n",
    "    # Convert to radians and mm\n",
    "    # There may or may not have to be a negative here, not quite sure why\n",
    "    angleArr = -data[\"angle\"] * np.pi / 180\n",
    "    displacementArr = data[\"gauss_center\"] * 1e-3 - np.mean(data[\"gauss_center\"] * 1e-3)\n",
    "\n",
    "    # In case you need to cut away some of the extreme data points because of issues\n",
    "    # with centering/interference\n",
    "    angleArr = angleArr[5:-5]\n",
    "    displacementArr = displacementArr[5:-5]\n",
    "    \n",
    "    # Now actually do the curve fitting\n",
    "    popt, pcov = curve_fit(func_form, angleArr, displacementArr,\n",
    "                           #method='trf',\n",
    "                           # Bounds for [displacement offset, phase offset, IoR]\n",
    "                           bounds=([-6, -np.pi/2 + .01, 1.2], # Lower bound\n",
    "                                   [6, np.pi/2 - .01, 1.9])) # Upper bound\n",
    "\n",
    "    nArr[i] = popt[2]"
   ]
  },
  {
   "cell_type": "code",
   "execution_count": 14,
   "id": "e58fb54b-3296-451e-86f7-dd628aae87be",
   "metadata": {},
   "outputs": [
    {
     "data": {
      "image/png": "[encoded data removed]",
      "text/plain": [
       "<Figure size 720x480 with 1 Axes>"
      ]
     },
     "metadata": {
      "needs_background": "light"
     },
     "output_type": "display_data"
    }
   ],
   "source": [
    "literatureNArr = [1.76303, 1.75885, 1.75547]\n",
    "literatureWavelengthArr = [706.52, 852.11, 1013.98]\n",
    "\n",
    "plt.plot(wavelengthArr, nArr, 'o', label='Data')\n",
    "plt.plot(literatureWavelengthArr, literatureNArr, 'o', label='Literature')\n",
    "plt.legend()\n",
    "plt.show()"
   ]
  },
  {
   "cell_type": "code",
   "execution_count": null,
   "id": "9012b6cd-8810-47d2-80da-b83b1c20c1e0",
   "metadata": {},
   "outputs": [],
   "source": []
  }
 ],
 "metadata": {
  "kernelspec": {
   "display_name": "Python 3 (ipykernel)",
   "language": "python",
   "name": "python3"
  },
  "language_info": {
   "codemirror_mode": {
    "name": "ipython",
    "version": 3
   },
   "file_extension": ".py",
   "mimetype": "text/x-python",
   "name": "python",
   "nbconvert_exporter": "python",
   "pygments_lexer": "ipython3",
   "version": "3.8.10"
  }
 },
 "nbformat": 4,
 "nbformat_minor": 5
}
