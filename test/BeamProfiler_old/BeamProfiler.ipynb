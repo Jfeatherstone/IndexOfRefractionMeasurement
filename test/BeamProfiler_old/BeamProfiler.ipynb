{
 "cells": [
  {
   "cell_type": "code",
   "execution_count": 4,
   "id": "371b851b-7077-4f02-90dc-695e944b1e99",
   "metadata": {},
   "outputs": [],
   "source": [
    "import clr\n",
    "import sys\n",
    "import numpy as np\n",
    "import matplotlib.pyplot as plt\n",
    "\n",
    "sys.path.append(r'C:\\Program Files\\IVI Foundation\\VISA\\VisaCom64\\Primary Interop Assemblies')\n",
    "sys.path.append(r'C:\\Program Files (x86)\\IVI Foundation\\VISA\\VisaCom\\Primary Interop Assemblies')\n",
    "#sys.path.append(r'C:\\Program Files\\IVI Foundation\\VISA\\Win64\\Bin')\n",
    "#sys.path.append(\"TLBP_Assemblies\")\n",
    "#sys.path.append(r\"C:\\Users\\Jack\\source\\repos\\TLBP2Wrapper\\TLBP2Wrapper\\bin\\Debug\\netcoreapp3.1\")\n",
    "#sys.path.append(r\"C:\\Users\\Jack\\source\\repos\\TestDLL\\TestDLL\\bin\\Debug\\netcoreapp3.1\")\n",
    "sys.path.append(r'C:\\Users\\Jack\\source\\repos\\TestDLL\\TestDLL\\bin\\Debug\\net5.0')"
   ]
  },
  {
   "cell_type": "code",
   "execution_count": 5,
   "id": "f30473c8-5ad5-47ac-8710-00acfa0c0077",
   "metadata": {},
   "outputs": [
    {
     "ename": "FileNotFoundException",
     "evalue": "Unable to find assembly 'TestDLL'.\n   at Python.Runtime.CLRModule.AddReference(String name)",
     "output_type": "error",
     "traceback": [
      "\u001b[1;31m---------------------------------------------------------------------------\u001b[0m",
      "\u001b[1;31mFileNotFoundException\u001b[0m                     Traceback (most recent call last)",
      "\u001b[1;32m~\\AppData\\Local\\Temp/ipykernel_17124/3452186236.py\u001b[0m in \u001b[0;36m<module>\u001b[1;34m\u001b[0m\n\u001b[0;32m      4\u001b[0m \u001b[1;31m#clr.AddReference(r'Thorlabs.TLBP2_32.Interop')\u001b[0m\u001b[1;33m\u001b[0m\u001b[1;33m\u001b[0m\u001b[1;33m\u001b[0m\u001b[0m\n\u001b[0;32m      5\u001b[0m \u001b[1;31m#clr.AddReference(r'TLBP2Wrapper')\u001b[0m\u001b[1;33m\u001b[0m\u001b[1;33m\u001b[0m\u001b[1;33m\u001b[0m\u001b[0m\n\u001b[1;32m----> 6\u001b[1;33m \u001b[0mref\u001b[0m \u001b[1;33m=\u001b[0m \u001b[0mclr\u001b[0m\u001b[1;33m.\u001b[0m\u001b[0mAddReference\u001b[0m\u001b[1;33m(\u001b[0m\u001b[1;34mr'TestDLL'\u001b[0m\u001b[1;33m)\u001b[0m\u001b[1;33m\u001b[0m\u001b[1;33m\u001b[0m\u001b[0m\n\u001b[0m\u001b[0;32m      7\u001b[0m \u001b[1;31m#from Thorlabs.TLBP2.Interop import *\u001b[0m\u001b[1;33m\u001b[0m\u001b[1;33m\u001b[0m\u001b[1;33m\u001b[0m\u001b[0m\n",
      "\u001b[1;31mFileNotFoundException\u001b[0m: Unable to find assembly 'TestDLL'.\n   at Python.Runtime.CLRModule.AddReference(String name)"
     ]
    }
   ],
   "source": [
    "# C:\\Program Files\\IVI Foundation\\VISA\\VisaCom64\\Primary Interop Assemblies\\Thorlabs.TLBP2_64.Interop.dll\n",
    "#print(clr.FindAssembly(r'Thorlabs.TLBP2_64.Interop'))\n",
    "#clr.AddReference(r'TLBP2_64.dll')\n",
    "#clr.AddReference(r'Thorlabs.TLBP2_32.Interop')\n",
    "#clr.AddReference(r'TLBP2Wrapper')\n",
    "ref = clr.AddReference(r'TestDLL')\n",
    "#from Thorlabs.TLBP2.Interop import *"
   ]
  },
  {
   "cell_type": "code",
   "execution_count": 3,
   "id": "e10ae53b-6fa7-4ef3-a5a5-ddc70fd5c4cd",
   "metadata": {},
   "outputs": [
    {
     "ename": "ModuleNotFoundError",
     "evalue": "No module named 'CalcTestNS'",
     "output_type": "error",
     "traceback": [
      "\u001b[1;31m---------------------------------------------------------------------------\u001b[0m",
      "\u001b[1;31mModuleNotFoundError\u001b[0m                       Traceback (most recent call last)",
      "\u001b[1;32m~\\AppData\\Local\\Temp/ipykernel_1828/2588965547.py\u001b[0m in \u001b[0;36m<module>\u001b[1;34m\u001b[0m\n\u001b[1;32m----> 1\u001b[1;33m \u001b[1;32mfrom\u001b[0m \u001b[0mCalcTestNS\u001b[0m \u001b[1;32mimport\u001b[0m \u001b[1;33m*\u001b[0m\u001b[1;33m\u001b[0m\u001b[1;33m\u001b[0m\u001b[0m\n\u001b[0m",
      "\u001b[1;31mModuleNotFoundError\u001b[0m: No module named 'CalcTestNS'"
     ]
    }
   ],
   "source": [
    "from CalcTestNS import *"
   ]
  },
  {
   "cell_type": "code",
   "execution_count": 3,
   "id": "ef4d7150-d9e3-4698-a15b-b3301d375412",
   "metadata": {},
   "outputs": [
    {
     "data": {
      "text/plain": [
       "['CodeBase',\n",
       " 'CreateInstance',\n",
       " 'CreateQualifiedName',\n",
       " 'CustomAttributes',\n",
       " 'DefinedTypes',\n",
       " 'EntryPoint',\n",
       " 'Equals',\n",
       " 'EscapedCodeBase',\n",
       " 'Evidence',\n",
       " 'ExportedTypes',\n",
       " 'Finalize',\n",
       " 'FullName',\n",
       " 'GetAssembly',\n",
       " 'GetCallingAssembly',\n",
       " 'GetCustomAttributes',\n",
       " 'GetCustomAttributesData',\n",
       " 'GetEntryAssembly',\n",
       " 'GetExecutingAssembly',\n",
       " 'GetExportedTypes',\n",
       " 'GetFile',\n",
       " 'GetFiles',\n",
       " 'GetHashCode',\n",
       " 'GetLoadedModules',\n",
       " 'GetManifestResourceInfo',\n",
       " 'GetManifestResourceNames',\n",
       " 'GetManifestResourceStream',\n",
       " 'GetModule',\n",
       " 'GetModules',\n",
       " 'GetName',\n",
       " 'GetObjectData',\n",
       " 'GetReferencedAssemblies',\n",
       " 'GetSatelliteAssembly',\n",
       " 'GetType',\n",
       " 'GetTypes',\n",
       " 'GlobalAssemblyCache',\n",
       " 'HostContext',\n",
       " 'ImageRuntimeVersion',\n",
       " 'IsDefined',\n",
       " 'IsDynamic',\n",
       " 'IsFullyTrusted',\n",
       " 'Load',\n",
       " 'LoadFile',\n",
       " 'LoadFrom',\n",
       " 'LoadModule',\n",
       " 'LoadWithPartialName',\n",
       " 'Location',\n",
       " 'ManifestModule',\n",
       " 'MemberwiseClone',\n",
       " 'ModuleResolve',\n",
       " 'Modules',\n",
       " 'Overloads',\n",
       " 'PermissionSet',\n",
       " 'ReferenceEquals',\n",
       " 'ReflectionOnly',\n",
       " 'ReflectionOnlyLoad',\n",
       " 'ReflectionOnlyLoadFrom',\n",
       " 'SecurityRuleSet',\n",
       " 'ToString',\n",
       " 'UnsafeLoadFrom',\n",
       " '__call__',\n",
       " '__class__',\n",
       " '__delattr__',\n",
       " '__delitem__',\n",
       " '__dir__',\n",
       " '__doc__',\n",
       " '__eq__',\n",
       " '__format__',\n",
       " '__ge__',\n",
       " '__getattribute__',\n",
       " '__getitem__',\n",
       " '__gt__',\n",
       " '__hash__',\n",
       " '__init__',\n",
       " '__init_subclass__',\n",
       " '__iter__',\n",
       " '__le__',\n",
       " '__lt__',\n",
       " '__module__',\n",
       " '__ne__',\n",
       " '__new__',\n",
       " '__overloads__',\n",
       " '__reduce__',\n",
       " '__reduce_ex__',\n",
       " '__repr__',\n",
       " '__setattr__',\n",
       " '__setitem__',\n",
       " '__sizeof__',\n",
       " '__str__',\n",
       " '__subclasshook__',\n",
       " 'add_ModuleResolve',\n",
       " 'get_CodeBase',\n",
       " 'get_CustomAttributes',\n",
       " 'get_DefinedTypes',\n",
       " 'get_EntryPoint',\n",
       " 'get_EscapedCodeBase',\n",
       " 'get_Evidence',\n",
       " 'get_ExportedTypes',\n",
       " 'get_FullName',\n",
       " 'get_GlobalAssemblyCache',\n",
       " 'get_HostContext',\n",
       " 'get_ImageRuntimeVersion',\n",
       " 'get_IsDynamic',\n",
       " 'get_IsFullyTrusted',\n",
       " 'get_Location',\n",
       " 'get_ManifestModule',\n",
       " 'get_Modules',\n",
       " 'get_PermissionSet',\n",
       " 'get_ReflectionOnly',\n",
       " 'get_SecurityRuleSet',\n",
       " 'op_Equality',\n",
       " 'op_Inequality',\n",
       " 'remove_ModuleResolve']"
      ]
     },
     "execution_count": 3,
     "metadata": {},
     "output_type": "execute_result"
    }
   ],
   "source": [
    "dir(ref)"
   ]
  },
  {
   "cell_type": "code",
   "execution_count": 20,
   "id": "26997f1c-c891-44bc-b875-b7f1f09e5ae3",
   "metadata": {},
   "outputs": [
    {
     "ename": "TypeError",
     "evalue": "No method matches given arguments for GetAssembly: ()",
     "output_type": "error",
     "traceback": [
      "\u001b[1;31m---------------------------------------------------------------------------\u001b[0m",
      "\u001b[1;31mTypeError\u001b[0m                                 Traceback (most recent call last)",
      "\u001b[1;32m~\\AppData\\Local\\Temp/ipykernel_16956/62810258.py\u001b[0m in \u001b[0;36m<module>\u001b[1;34m\u001b[0m\n\u001b[1;32m----> 1\u001b[1;33m \u001b[0mref\u001b[0m\u001b[1;33m.\u001b[0m\u001b[0mGetAssembly\u001b[0m\u001b[1;33m(\u001b[0m\u001b[1;33m)\u001b[0m\u001b[1;33m\u001b[0m\u001b[1;33m\u001b[0m\u001b[0m\n\u001b[0m",
      "\u001b[1;31mTypeError\u001b[0m: No method matches given arguments for GetAssembly: ()"
     ]
    }
   ],
   "source": [
    "ref.GetAssembly()"
   ]
  },
  {
   "cell_type": "code",
   "execution_count": 21,
   "id": "dda6ac3d-59b8-4ce1-959c-986244fcbbcb",
   "metadata": {},
   "outputs": [
    {
     "data": {
      "text/plain": [
       "\u001b[1;31mCall signature:\u001b[0m \u001b[0mref\u001b[0m\u001b[1;33m.\u001b[0m\u001b[0mGetAssembly\u001b[0m\u001b[1;33m(\u001b[0m\u001b[1;33m*\u001b[0m\u001b[0margs\u001b[0m\u001b[1;33m,\u001b[0m \u001b[1;33m**\u001b[0m\u001b[0mkwargs\u001b[0m\u001b[1;33m)\u001b[0m\u001b[1;33m\u001b[0m\u001b[1;33m\u001b[0m\u001b[0m\n",
       "\u001b[1;31mType:\u001b[0m           MethodBinding\n",
       "\u001b[1;31mString form:\u001b[0m    <bound method 'GetAssembly'>\n",
       "\u001b[1;31mFile:\u001b[0m           c:\\users\\jack\\appdata\\local\\programs\\python\\python38\\lib\\site-packages\\clr.pyd\n",
       "\u001b[1;31mDocstring:\u001b[0m      System.Reflection.Assembly GetAssembly(System.Type)\n"
      ]
     },
     "metadata": {},
     "output_type": "display_data"
    }
   ],
   "source": [
    "??ref.GetAssembly"
   ]
  },
  {
   "cell_type": "code",
   "execution_count": null,
   "id": "4dc1465d-bbfd-4627-b3aa-af6187caebaf",
   "metadata": {},
   "outputs": [],
   "source": []
  }
 ],
 "metadata": {
  "kernelspec": {
   "display_name": "Python 3 (ipykernel)",
   "language": "python",
   "name": "python3"
  },
  "language_info": {
   "codemirror_mode": {
    "name": "ipython",
    "version": 3
   },
   "file_extension": ".py",
   "mimetype": "text/x-python",
   "name": "python",
   "nbconvert_exporter": "python",
   "pygments_lexer": "ipython3",
   "version": "3.8.10"
  }
 },
 "nbformat": 4,
 "nbformat_minor": 5
}
