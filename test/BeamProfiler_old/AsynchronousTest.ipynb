{
 "cells": [
  {
   "cell_type": "code",
   "execution_count": 3,
   "id": "3db2481b-6c22-4853-87c4-b38b5e53b5b0",
   "metadata": {},
   "outputs": [],
   "source": [
    "import numpy as np\n",
    "import matplotlib.pyplot as plt"
   ]
  },
  {
   "cell_type": "code",
   "execution_count": 4,
   "id": "12ebccbc-a53c-402a-b806-9dec4bb51abc",
   "metadata": {},
   "outputs": [
    {
     "name": "stdout",
     "output_type": "stream",
     "text": [
      "c:\\users\\jack\\appdata\\local\\programs\\python\\python38\\lib\\site-packages\\msl\\examples\\loadlib\n"
     ]
    }
   ],
   "source": [
    "print(EXAMPLES_DIR)"
   ]
  },
  {
   "cell_type": "code",
   "execution_count": 15,
   "id": "7817792b-d170-468d-a57d-82b34ff87a62",
   "metadata": {},
   "outputs": [
    {
     "name": "stderr",
     "output_type": "stream",
     "text": [
      "Unable to load one or more of the requested types. Retrieve the LoaderExceptions property for more information.\n",
      "   at System.Reflection.RuntimeModule.GetTypes(RuntimeModule module)\n",
      "   at System.Reflection.Assembly.GetTypes()\n",
      "The LoaderExceptions are:\n",
      "  Could not load file or assembly 'System.Runtime, Version=4.2.1.0, Culture=neutral, PublicKeyToken=b03f5f7f11d50a3a' or one of its dependencies. The system cannot find the file specified.\n"
     ]
    }
   ],
   "source": [
    "#TLBP2Lib = LoadLibrary(r'C:\\Program Files (x86)\\IVI Foundation\\VISA\\VisaCom\\Primary Interop Assemblies\\Thorlabs.TLBP2_32.Interop')\n",
    "testLib = LoadLibrary(r'C:\\Users\\Jack\\source\\repos\\TestDLL\\TestDLL\\bin\\Debug\\netcoreapp3.0\\TestDLL.dll', 'net')"
   ]
  },
  {
   "cell_type": "code",
   "execution_count": 13,
   "id": "80f91782-4218-49fd-bd27-116e916aa3ca",
   "metadata": {},
   "outputs": [
    {
     "data": {
      "text/plain": [
       "['System',\n",
       " '__class__',\n",
       " '__delattr__',\n",
       " '__dict__',\n",
       " '__dir__',\n",
       " '__doc__',\n",
       " '__eq__',\n",
       " '__format__',\n",
       " '__ge__',\n",
       " '__getattribute__',\n",
       " '__gt__',\n",
       " '__hash__',\n",
       " '__init__',\n",
       " '__init_subclass__',\n",
       " '__le__',\n",
       " '__lt__',\n",
       " '__module__',\n",
       " '__ne__',\n",
       " '__new__',\n",
       " '__reduce__',\n",
       " '__reduce_ex__',\n",
       " '__repr__',\n",
       " '__setattr__',\n",
       " '__sizeof__',\n",
       " '__str__',\n",
       " '__subclasshook__',\n",
       " '__weakref__',\n",
       " '_path']"
      ]
     },
     "execution_count": 13,
     "metadata": {},
     "output_type": "execute_result"
    }
   ],
   "source": [
    "dir(testLib.lib)"
   ]
  },
  {
   "cell_type": "code",
   "execution_count": null,
   "id": "de19606c-f570-4f09-b10b-7f80aa1bd84b",
   "metadata": {},
   "outputs": [],
   "source": []
  }
 ],
 "metadata": {
  "kernelspec": {
   "display_name": "Python 3 (ipykernel)",
   "language": "python",
   "name": "python3"
  },
  "language_info": {
   "codemirror_mode": {
    "name": "ipython",
    "version": 3
   },
   "file_extension": ".py",
   "mimetype": "text/x-python",
   "name": "python",
   "nbconvert_exporter": "python",
   "pygments_lexer": "ipython3",
   "version": "3.8.10"
  }
 },
 "nbformat": 4,
 "nbformat_minor": 5
}
