{
 "cells": [
  {
   "cell_type": "code",
   "execution_count": 2,
   "metadata": {},
   "outputs": [],
   "source": [
    "import sys\n",
    "sys.path.append('..\\\\')\n",
    "\n",
    "from ESP301Control import RotationStage"
   ]
  },
  {
   "cell_type": "code",
   "execution_count": 8,
   "metadata": {},
   "outputs": [
    {
     "data": {
      "text/plain": [
       "0"
      ]
     },
     "execution_count": 8,
     "metadata": {},
     "output_type": "execute_result"
    }
   ],
   "source": [
    "stage = RotationStage()\n",
    "stage.connect()"
   ]
  },
  {
   "cell_type": "code",
   "execution_count": 6,
   "metadata": {},
   "outputs": [
    {
     "data": {
      "text/plain": [
       "0"
      ]
     },
     "execution_count": 6,
     "metadata": {},
     "output_type": "execute_result"
    }
   ],
   "source": [
    "stage.moveRelative(-30)"
   ]
  },
  {
   "cell_type": "code",
   "execution_count": 11,
   "metadata": {},
   "outputs": [
    {
     "data": {
      "text/plain": [
       "0"
      ]
     },
     "execution_count": 11,
     "metadata": {},
     "output_type": "execute_result"
    }
   ],
   "source": [
    "stage.moveAbsolute(1)"
   ]
  },
  {
   "cell_type": "code",
   "execution_count": 15,
   "metadata": {},
   "outputs": [
    {
     "data": {
      "text/plain": [
       "2.0"
      ]
     },
     "execution_count": 15,
     "metadata": {},
     "output_type": "execute_result"
    }
   ],
   "source": [
    "stage.getVelocity()"
   ]
  },
  {
   "cell_type": "code",
   "execution_count": 16,
   "metadata": {},
   "outputs": [
    {
     "data": {
      "text/plain": [
       "0.0"
      ]
     },
     "execution_count": 16,
     "metadata": {},
     "output_type": "execute_result"
    }
   ],
   "source": [
    "stage.getAngle()"
   ]
  },
  {
   "cell_type": "code",
   "execution_count": 12,
   "metadata": {},
   "outputs": [
    {
     "data": {
      "text/plain": [
       "0"
      ]
     },
     "execution_count": 12,
     "metadata": {},
     "output_type": "execute_result"
    }
   ],
   "source": [
    "stage.resetToHome()"
   ]
  },
  {
   "cell_type": "code",
   "execution_count": 21,
   "metadata": {},
   "outputs": [
    {
     "data": {
      "text/plain": [
       "0"
      ]
     },
     "execution_count": 21,
     "metadata": {},
     "output_type": "execute_result"
    }
   ],
   "source": [
    "stage.disconnect()"
   ]
  },
  {
   "cell_type": "markdown",
   "metadata": {},
   "source": [
    "## Old Stuff"
   ]
  },
  {
   "cell_type": "code",
   "execution_count": 1,
   "metadata": {},
   "outputs": [],
   "source": [
    "import sys\n",
    "import clr\n",
    "import numpy as np\n",
    "import matplotlib.pyplot as plt\n",
    "import datetime\n",
    "\n",
    "#sys.path.append(r'C:\\Newport\\Motion Control\\ESP301\\Bin')\n",
    "#sys.path.append('..\\\\')\n",
    "# Found this just by searching \"CommandInterface\" in Windows Explorer,\n",
    "# no idea why it is here :/\n",
    "#interfacePath = r'C:\\Windows\\Microsoft.NET\\assembly\\GAC_64'#\\Newport.ESP301.CommandInterface\\v4.0_2.0.0.3__9f994642f5b48132'\n",
    "#sys.path.append(interfacePath)\n",
    "#print(clr.FindAssembly(r'C:\\Newport\\Motion Control\\ESP301\\Bin\\CommandInterface'))\n",
    "clr.AddReference(r'ESP301_CommandInterface')\n",
    "\n",
    "from CommandInterfaceESP301 import *"
   ]
  },
  {
   "cell_type": "code",
   "execution_count": 2,
   "metadata": {},
   "outputs": [],
   "source": [
    "COM_PORT = 'COM4'\n",
    "BAUDRATE = 921600"
   ]
  },
  {
   "cell_type": "code",
   "execution_count": 12,
   "metadata": {},
   "outputs": [
    {
     "name": "stdout",
     "output_type": "stream",
     "text": [
      "System.String[]\n",
      "0\n"
     ]
    }
   ],
   "source": [
    "espDev = ESP301()\n",
    "\n",
    "# Doesn't show anything, connection still works though :/\n",
    "print(espDev.GetDevices())\n",
    "\n",
    "# ret = 0 means success\n",
    "ret = espDev.OpenInstrument(COM_PORT, BAUDRATE)\n",
    "print(ret)"
   ]
  },
  {
   "cell_type": "code",
   "execution_count": 13,
   "metadata": {},
   "outputs": [
    {
     "name": "stdout",
     "output_type": "stream",
     "text": [
      "0.0\n"
     ]
    }
   ],
   "source": [
    "# The interface mostly using out parameters (as well as returns I think?)\n",
    "errorMsg = ''\n",
    "axisNum = 1\n",
    "angle = 0\n",
    "# Grab the current position (angle)\n",
    "status, angle, errorMsg = espDev.TP(axisNum, angle, errorMsg)\n",
    "\n",
    "print(angle)"
   ]
  },
  {
   "cell_type": "code",
   "execution_count": 35,
   "metadata": {},
   "outputs": [
    {
     "name": "stdout",
     "output_type": "stream",
     "text": [
      "before wait\n",
      "after wait\n"
     ]
    }
   ],
   "source": [
    "# Move the stage\n",
    "dtheta = 1 # In degrees\n",
    "status, errorMsg = espDev.PA_Set(axisNum, dtheta, errorMsg)\n",
    "\n",
    "print('before wait')\n",
    "# Wait for the stage to finish moving\n",
    "# There is an ASCII command just for this (WS), but it doesn't work ???\n",
    "# so I do it this way\n",
    "while True:\n",
    "    ret, done, errorMsg = espDev.MD(axisNum, 0, errorMsg)\n",
    "    if done:\n",
    "        break\n",
    "print('after wait')"
   ]
  },
  {
   "cell_type": "code",
   "execution_count": 40,
   "metadata": {},
   "outputs": [
    {
     "name": "stdout",
     "output_type": "stream",
     "text": [
      "(0, '')\n"
     ]
    }
   ],
   "source": [
    "status = espDev.OR(axisNum, 0, errorMsg)\n",
    "print(status)"
   ]
  },
  {
   "cell_type": "code",
   "execution_count": 39,
   "metadata": {},
   "outputs": [
    {
     "name": "stdout",
     "output_type": "stream",
     "text": [
      "(0, '')\n"
     ]
    }
   ],
   "source": [
    "# Set the home position relative to the current one\n",
    "errorMsg = ''\n",
    "axisNum = 1\n",
    "angle = 0\n",
    "# Grab the current position (angle)\n",
    "status, angle, errorMsg = espDev.TP(axisNum, angle, errorMsg)\n",
    "\n",
    "status = espDev.SH_Set(axisNum, 0, errorMsg)\n",
    "print(status)"
   ]
  },
  {
   "cell_type": "code",
   "execution_count": 30,
   "metadata": {},
   "outputs": [
    {
     "name": "stdout",
     "output_type": "stream",
     "text": [
      "(0, '')\n"
     ]
    }
   ],
   "source": [
    "status = espDev.VA_Set(axisNum, 3, errorMsg)\n",
    "print(status)"
   ]
  },
  {
   "cell_type": "code",
   "execution_count": 29,
   "metadata": {},
   "outputs": [
    {
     "name": "stdout",
     "output_type": "stream",
     "text": [
      "(0, 1.0, '')\n"
     ]
    }
   ],
   "source": [
    "status = espDev.VA_Get(axisNum, 3, errorMsg)\n",
    "print(status)"
   ]
  },
  {
   "cell_type": "code",
   "execution_count": 16,
   "metadata": {},
   "outputs": [],
   "source": [
    "def millisTime():\n",
    "    return int((datetime.datetime.utcnow() - datetime.datetime(1970, 1, 1)).total_seconds() * 1000) \n",
    "\n",
    "# Record the angle as it moves around\n",
    "dtheta = 1\n",
    "numSteps = 10\n",
    "axisNum = 1\n",
    "errorMsg = ''\n",
    "angle = 0\n",
    "\n",
    "angleArr = np.zeros(numSteps)\n",
    "timeArr = np.zeros(numSteps)\n",
    "start = millisTime()\n",
    "\n",
    "for i in range(numSteps):\n",
    "    timeArr[i] = millisTime() - start\n",
    "    \n",
    "    # Move the stage\n",
    "    status, errorMsg = espDev.PR(axisNum, dtheta, errorMsg)\n",
    "    \n",
    "    # Wait until it is done moving\n",
    "    while True:\n",
    "        ret, done, errorMsg = espDev.MD(axisNum, 0, errorMsg)\n",
    "        if done:\n",
    "            break\n",
    "\n",
    "    # Read the current position\n",
    "    status, angle, errorMsg = espDev.TP(axisNum, angle, errorMsg)\n",
    "    angleArr[i] = angle"
   ]
  },
  {
   "cell_type": "code",
   "execution_count": 8,
   "metadata": {},
   "outputs": [
    {
     "data": {
      "text/plain": [
       "[<matplotlib.lines.Line2D at 0x2807faf1b80>]"
      ]
     },
     "execution_count": 8,
     "metadata": {},
     "output_type": "execute_result"
    },
    {
     "data": {
      "image/png": "[encoded data removed]",
      "text/plain": [
       "<Figure size 432x288 with 1 Axes>"
      ]
     },
     "metadata": {
      "needs_background": "light"
     },
     "output_type": "display_data"
    }
   ],
   "source": [
    "plt.plot(timeArr * 1e-3, angleArr)"
   ]
  },
  {
   "cell_type": "code",
   "execution_count": 11,
   "metadata": {},
   "outputs": [
    {
     "data": {
      "text/plain": [
       "0"
      ]
     },
     "execution_count": 11,
     "metadata": {},
     "output_type": "execute_result"
    }
   ],
   "source": [
    "espDev.CloseInstrument()"
   ]
  },
  {
   "cell_type": "code",
   "execution_count": null,
   "metadata": {},
   "outputs": [],
   "source": []
  }
 ],
 "metadata": {
  "kernelspec": {
   "display_name": "Python 3",
   "language": "python",
   "name": "python3"
  },
  "language_info": {
   "codemirror_mode": {
    "name": "ipython",
    "version": 3
   },
   "file_extension": ".py",
   "mimetype": "text/x-python",
   "name": "python",
   "nbconvert_exporter": "python",
   "pygments_lexer": "ipython3",
   "version": "3.8.3"
  }
 },
 "nbformat": 4,
 "nbformat_minor": 5
}
