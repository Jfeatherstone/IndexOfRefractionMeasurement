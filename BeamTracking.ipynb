{
 "cells": [
  {
   "cell_type": "code",
   "execution_count": 1,
   "id": "74f07a56-1d45-4686-941e-a5921be81b5d",
   "metadata": {},
   "outputs": [],
   "source": [
    "from ESP301Control import RotationStage\n",
    "from TLBP2Control import TLBP2\n",
    "\n",
    "import numpy as np\n",
    "import matplotlib.pyplot as plt\n",
    "\n",
    "from IPython.display import clear_output\n",
    "\n",
    "from time import sleep\n",
    "\n",
    "from Settings import *"
   ]
  },
  {
   "cell_type": "code",
   "execution_count": 8,
   "id": "3e9911d9-2f62-4108-97cb-889b8a4a47e0",
   "metadata": {},
   "outputs": [
    {
     "data": {
      "text/plain": [
       "0"
      ]
     },
     "execution_count": 8,
     "metadata": {},
     "output_type": "execute_result"
    }
   ],
   "source": [
    "stage = RotationStage(MOTION_CONTROLLER_PORT, ROTATION_STAGE_AXIS_NUM)\n",
    "bp2Device = TLBP2()\n",
    "\n",
    "stage.connect()\n",
    "bp2Device.connect()"
   ]
  },
  {
   "cell_type": "code",
   "execution_count": 10,
   "id": "0c88b416-6f9b-44d6-acc3-dd358a3d9bb9",
   "metadata": {},
   "outputs": [
    {
     "data": {
      "text/plain": [
       "0"
      ]
     },
     "execution_count": 10,
     "metadata": {},
     "output_type": "execute_result"
    }
   ],
   "source": [
    "# Reset the rotation stage, and move to a good starting position\n",
    "stage.resetToHome()"
   ]
  },
  {
   "cell_type": "code",
   "execution_count": 6,
   "id": "91244919-8cbe-470d-b9e2-782161ee267b",
   "metadata": {},
   "outputs": [
    {
     "data": {
      "text/plain": [
       "0"
      ]
     },
     "execution_count": 6,
     "metadata": {},
     "output_type": "execute_result"
    }
   ],
   "source": [
    "stage.moveAbsolute(30)"
   ]
  },
  {
   "cell_type": "code",
   "execution_count": 5,
   "id": "939b268b-1edb-4bf9-9662-386f74a05e4f",
   "metadata": {},
   "outputs": [
    {
     "data": {
      "text/plain": [
       "{'centroid': array([  -56.493958, -1054.1558  ]),\n",
       " 'peak': array([ -113.42316, -1103.1638 ]),\n",
       " 'peak_intensity': array([40.702847, 50.91437 ]),\n",
       " 'drum_speed': 10.274588374303255,\n",
       " 'beam_width': array([1434.4841 , 1005.48267]),\n",
       " 'gaussian_fit_params_x': array([4.4604360e+03, 1.4209744e+03, 9.1887980e+03, 9.3540430e-01]),\n",
       " 'gaussian_fit_params_y': array([3.3435793e+03, 9.8075710e+02, 1.2195989e+04, 9.5180040e-01])}"
      ]
     },
     "execution_count": 5,
     "metadata": {},
     "output_type": "execute_result"
    }
   ],
   "source": [
    "bp2Device.getMeasurement()"
   ]
  },
  {
   "cell_type": "code",
   "execution_count": 11,
   "id": "b3e31c35-f8d3-4456-8382-6dfec8c90f9b",
   "metadata": {},
   "outputs": [
    {
     "data": {
      "image/png": "[encoded data removed]",
      "text/plain": [
       "<Figure size 432x288 with 1 Axes>"
      ]
     },
     "metadata": {
      "needs_background": "light"
     },
     "output_type": "display_data"
    }
   ],
   "source": [
    "stage.moveAbsolute(40)\n",
    "desiredAngle = -40\n",
    "\n",
    "dtheta = -.50\n",
    "averagingMeasurements = 5\n",
    "\n",
    "peakPositionArr = []\n",
    "peakPositionSTDArr = []\n",
    "angleArr = []\n",
    "\n",
    "while stage.getAngle() > desiredAngle:\n",
    "    individualMeasurements = np.zeros(averagingMeasurements)\n",
    "    for i in range(averagingMeasurements):\n",
    "        measure = None\n",
    "        while measure == None:\n",
    "            measure = bp2Device.getMeasurement()\n",
    "        individualMeasurements[i] = measure[\"gaussian_fit_params_x\"][0]\n",
    "        \n",
    "    peakPositionArr.append(np.mean(individualMeasurements))\n",
    "    peakPositionSTDArr.append(np.std(individualMeasurements))\n",
    "    \n",
    "    angleArr.append(stage.getAngle())\n",
    "\n",
    "    clear_output(wait=True)\n",
    "\n",
    "    plt.errorbar(angleArr, peakPositionArr, yerr=peakPositionSTDArr)\n",
    "    plt.xlabel(\"Angle [deg]\")\n",
    "    plt.ylabel(\"Fitted Peak Position [um]\")\n",
    "    plt.show()\n",
    "    \n",
    "    stage.moveRelative(dtheta)"
   ]
  },
  {
   "cell_type": "code",
   "execution_count": 12,
   "id": "d91be4fd-d701-4a4f-98c6-ea905f28cc62",
   "metadata": {},
   "outputs": [],
   "source": [
    "with open('data/four_slide_sample.txt', 'w') as outFile:\n",
    "    outFile.write('angle,peak_position,std')\n",
    "    for i in range(len(angleArr)):\n",
    "        outFile.write(f'\\n{angleArr[i]},{peakPositionArr[i]},{peakPositionSTDArr[i]}')"
   ]
  },
  {
   "cell_type": "code",
   "execution_count": 48,
   "id": "100b3e40-2a8d-43cd-b20a-59d3c4c18464",
   "metadata": {},
   "outputs": [
    {
     "data": {
      "image/png": "[encoded data removed]",
      "text/plain": [
       "<Figure size 432x288 with 1 Axes>"
      ]
     },
     "metadata": {
      "needs_background": "light"
     },
     "output_type": "display_data"
    }
   ],
   "source": [
    "plt.errorbar(angleArr, peakPositionArr, yerr=np.array(peakPositionSTDArr)*1e-3)\n",
    "plt.xlabel(\"Angle [deg]\")\n",
    "plt.ylabel(\"Fitted Peak Position [um]\")\n",
    "plt.savefig('initial_data.png')\n",
    "plt.show()"
   ]
  },
  {
   "cell_type": "code",
   "execution_count": 33,
   "id": "f4c05d6e-de7f-4522-8527-1667f5ea6913",
   "metadata": {},
   "outputs": [],
   "source": [
    "nAir = 1.0\n",
    "nGlass = 1.5 # Not really, but doesn't actually matter\n",
    "\n",
    "# Fake cuvette size, just reasonable choices\n",
    "d1 = 1e-1 # Width of cuvette wall [mm]\n",
    "d2 = 1 # Width of cuvette cavity [mm]\n",
    "\n",
    "def delta(theta, dtheta=0, offset=0, d1=d1, d2=d2, n0=nAir, n1=nGlass, n2=nAir):\n",
    "    return offset + (2*d1*(1 - n0 * np.cos(theta+dtheta)/np.sqrt(n1**2 - n0**2 * np.sin(theta+dtheta)**2)) + d2*(1 - n0*np.cos(theta+dtheta)/np.sqrt(n2**2 - n0**2 * np.sin(theta+dtheta)**2))) * np.sin(theta+dtheta)"
   ]
  },
  {
   "cell_type": "code",
   "execution_count": 43,
   "id": "f12e4b2e-3b33-45b5-8656-1eabd4072b60",
   "metadata": {},
   "outputs": [
    {
     "name": "stdout",
     "output_type": "stream",
     "text": [
      "Calculated phase difference [-0.52359476  0.15793636]\n"
     ]
    },
    {
     "data": {
      "image/png": "[encoded data removed]",
      "text/plain": [
       "<Figure size 432x288 with 1 Axes>"
      ]
     },
     "metadata": {
      "needs_background": "light"
     },
     "output_type": "display_data"
    }
   ],
   "source": [
    "# Now recover the phase difference\n",
    "from scipy.optimize import curve_fit\n",
    "\n",
    "# Now fit our function with scipy\n",
    "def wrap_func(th, phaseDiff, offset):\n",
    "    return delta(th, dtheta=phaseDiff, offset=offset, d1=1.5 ,d2=8, n1=1.3)\n",
    "\n",
    "#angleArr = -np.array(angleArr) * np.pi/180\n",
    "#peakPositionArr = np.array(peakPositionArr) * 1e-3 - 4\n",
    "\n",
    "#deltaArr = deltaArr + y_noise\n",
    "popt, pcov = curve_fit(wrap_func, angleArr, peakPositionArr, bounds=(-np.pi/2 + .01, np.pi/2 + .01))\n",
    "\n",
    "plt.plot(angleArr, peakPositionArr)\n",
    "plt.plot(angleArr, wrap_func(angleArr, *popt), '--')\n",
    "plt.axvline(popt[1], linestyle='--', color='g')\n",
    "plt.xlabel('Angle [rad]')\n",
    "plt.ylabel(r'Beam Displacement $\\delta$ [mm]')\n",
    "\n",
    "#print(f'Real phase difference: {phaseDiff}')\n",
    "print(f'Calculated phase difference {popt}')\n",
    "plt.savefig('initial_fit.png')\n",
    "plt.show()"
   ]
  },
  {
   "cell_type": "code",
   "execution_count": 7,
   "id": "b33e0d35-a2e9-40f5-81c3-19f28f338dec",
   "metadata": {},
   "outputs": [],
   "source": [
    "stage.disconnect()\n",
    "bp2Device.disconnect()"
   ]
  },
  {
   "cell_type": "code",
   "execution_count": 38,
   "id": "cf53fdb0-8636-4edb-a2f7-ce0893b7eb30",
   "metadata": {},
   "outputs": [
    {
     "name": "stdout",
     "output_type": "stream",
     "text": [
      "9.04908693958965\n"
     ]
    }
   ],
   "source": [
    "correctionAngle = popt[1] * 180 / np.pi\n",
    "print(correctionAngle)\n",
    "# Expectation: between 10-15 degrees"
   ]
  },
  {
   "cell_type": "code",
   "execution_count": 39,
   "id": "604dfceb-4511-49d5-a7a8-66d57347e533",
   "metadata": {},
   "outputs": [
    {
     "data": {
      "text/plain": [
       "0"
      ]
     },
     "execution_count": 39,
     "metadata": {},
     "output_type": "execute_result"
    }
   ],
   "source": [
    "#stage.resetToHome()\n",
    "#sleep(.5)\n",
    "stage.moveAbsolute(-correctionAngle)"
   ]
  },
  {
   "cell_type": "code",
   "execution_count": null,
   "id": "79c70969-7336-4cc0-8c83-297d0b339cf8",
   "metadata": {},
   "outputs": [],
   "source": []
  }
 ],
 "metadata": {
  "kernelspec": {
   "display_name": "Python 3 (ipykernel)",
   "language": "python",
   "name": "python3"
  },
  "language_info": {
   "codemirror_mode": {
    "name": "ipython",
    "version": 3
   },
   "file_extension": ".py",
   "mimetype": "text/x-python",
   "name": "python",
   "nbconvert_exporter": "python",
   "pygments_lexer": "ipython3",
   "version": "3.8.10"
  }
 },
 "nbformat": 4,
 "nbformat_minor": 5
}
