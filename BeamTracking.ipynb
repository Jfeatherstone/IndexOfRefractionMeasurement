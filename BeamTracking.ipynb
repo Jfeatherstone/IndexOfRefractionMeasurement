{
 "cells": [
  {
   "cell_type": "markdown",
   "metadata": {},
   "source": [
    "# Beam Tracking Notebook\n",
    "\n",
    "This notebook is an example of how to track the beam center as the rotation stage moves through a range of angles, which we can then recover the index of refraction from. For the actual index of refraction calculation, see the complementary `CurveFitting` or `AdvancedCurveFitting` notebooks.\n",
    "\n",
    "If you run into any errors, I highly recommend running the initialization script in this directory using:\n",
    "```\n",
    "> python Initialization.py\n",
    "```\n",
    "\n",
    "### Experimental Procedure\n",
    "\n",
    "1. Place your sample in the vice on top of the rotational stage\n",
    "2. Adjust the linear stage such that the sample is approximately lined up with the blue marker line\n",
    "    - It is a good idea to rotate the stage to $\\pm 50 ^{\\circ}$ or so, and make sure the beam passes through an acceptable part of the sample\n",
    "3. Turn on the Lauda and fan, and allow the container to come to the desired temperature\n",
    "    - Note that the container will not actually come to the temperature that the Lauda is set to; you will likely need to set it lower than the temperature you actually want\n",
    "4. Reset the rotational stage to the home position\n",
    "5. Run the measurement procedure"
   ]
  },
  {
   "cell_type": "code",
   "execution_count": 1,
   "metadata": {},
   "outputs": [],
   "source": [
    "from ESP301Control import RotationStage\n",
    "from TLBP2Control import TLBP2\n",
    "\n",
    "import numpy as np\n",
    "import matplotlib.pyplot as plt\n",
    "\n",
    "from tinkerforge.ip_connection import IPConnection\n",
    "from tinkerforge.bricklet_humidity import BrickletHumidity\n",
    "from tinkerforge.bricklet_temperature import BrickletTemperature\n",
    "\n",
    "from IPython.display import clear_output\n",
    "\n",
    "from time import sleep\n",
    "\n",
    "from Settings import *"
   ]
  },
  {
   "cell_type": "markdown",
   "metadata": {},
   "source": [
    "If you want to check whether all of the components are working (before actually connecting everything), you can run this cell -- though it is not actually necessary for the proper measurement."
   ]
  },
  {
   "cell_type": "code",
   "execution_count": 3,
   "metadata": {},
   "outputs": [
    {
     "name": "stdout",
     "output_type": "stream",
     "text": [
      "Rotation stage....................Working\n",
      "Beam profiler.....................Working\n",
      "Tinkerforge brick.................Error\n",
      "Initialization complete!\n"
     ]
    },
    {
     "data": {
      "text/plain": [
       "False"
      ]
     },
     "execution_count": 3,
     "metadata": {},
     "output_type": "execute_result"
    }
   ],
   "source": [
    "from Initialization import fastInitialization\n",
    "fastInitialization()"
   ]
  },
  {
   "cell_type": "markdown",
   "metadata": {},
   "source": [
    "The following cell will connect all of the devices that are needed to make the measurement, including the rotation stage, beam profiler, and temperature and humidity sensors."
   ]
  },
  {
   "cell_type": "code",
   "execution_count": 7,
   "metadata": {},
   "outputs": [
    {
     "data": {
      "text/plain": [
       "0"
      ]
     },
     "execution_count": 7,
     "metadata": {},
     "output_type": "execute_result"
    }
   ],
   "source": [
    "# Make sure there isn't another process running on this server/port combination\n",
    "HOST = 'localhost'\n",
    "PORT = 4223\n",
    "\n",
    "# These are found by using the BrickViewer program\n",
    "HUMIDITY_UID = 'keg'\n",
    "TEMP_UID = '6Jf'\n",
    "\n",
    "# These constants are imported from the Settings.py file;\n",
    "# see there for more information\n",
    "stage = RotationStage(MOTION_CONTROLLER_PORT, ROTATION_STAGE_AXIS_NUM)\n",
    "bp2Device = TLBP2()\n",
    "ipcon = IPConnection()\n",
    "\n",
    "humiditySensor = BrickletHumidity(HUMIDITY_UID, ipcon)\n",
    "temperatureSensor = BrickletTemperature(TEMP_UID, ipcon)\n",
    "\n",
    "ipcon.connect(HOST, PORT)\n",
    "stage.connect()\n",
    "# This can take up to 15 seconds, since it has to spin up the drum inside the\n",
    "# beam profiler\n",
    "bp2Device.connect() # Status code should be 0"
   ]
  },
  {
   "cell_type": "markdown",
   "metadata": {},
   "source": [
    "Reset the rotation stage to a set position stored in non-volatile memory (ie. persistent after it is turned off). Note that it does not return exactly to the same point, but probably within $.005$ degrees each time. This error can build up though, so it may be necessary to manually align the stage via back-reflex of the laser every now and again.\n",
    "\n",
    "Note that it isn't actually super important to have the stage perfectly centered, since we fit an arbitrary phase difference later on, which can account for any initial offset. Of course, if there is a huge offset ($\\gt 15^{\\circ}$) the data will not be symmetric, and this may affect the curve fitting."
   ]
  },
  {
   "cell_type": "code",
   "execution_count": 8,
   "metadata": {},
   "outputs": [
    {
     "data": {
      "text/plain": [
       "0"
      ]
     },
     "execution_count": 8,
     "metadata": {},
     "output_type": "execute_result"
    }
   ],
   "source": [
    "# Reset the rotation stage to a set position\n",
    "stage.resetToHome()\n",
    "#stage.moveAbsolute(50)"
   ]
  },
  {
   "cell_type": "markdown",
   "metadata": {},
   "source": [
    "Below are the possible values that can be saved with each measurement. If you would like more/different quantities that the beam profiler offers, you will have to edit the source code for the C# server; see `TLBP2Control/README.md` for more info.\n",
    "\n",
    "Quantities with 2 values are of format: `(x, y)`\n",
    "\n",
    "Gaussian fit parameters are of format: `(center, width, amplitude, fit percentage)`"
   ]
  },
  {
   "cell_type": "code",
   "execution_count": 5,
   "metadata": {},
   "outputs": [
    {
     "data": {
      "text/plain": [
       "{'centroid': array([  -56.493958, -1054.1558  ]),\n",
       " 'peak': array([ -113.42316, -1103.1638 ]),\n",
       " 'peak_intensity': array([40.702847, 50.91437 ]),\n",
       " 'drum_speed': 10.274588374303255,\n",
       " 'beam_width': array([1434.4841 , 1005.48267]),\n",
       " 'gaussian_fit_params_x': array([4.4604360e+03, 1.4209744e+03, 9.1887980e+03, 9.3540430e-01]),\n",
       " 'gaussian_fit_params_y': array([3.3435793e+03, 9.8075710e+02, 1.2195989e+04, 9.5180040e-01])}"
      ]
     },
     "execution_count": 5,
     "metadata": {},
     "output_type": "execute_result"
    }
   ],
   "source": [
    "bp2Device.getMeasurement()"
   ]
  },
  {
   "cell_type": "markdown",
   "metadata": {},
   "source": [
    "Below is the actual procedure to take data, which involves rotating the stage by a small amount, measuring the beam profiler output, and repeating.\n",
    "\n",
    "I would recommend using the gaussian center to fit later on, since this is the least volatile of the various measures of centrality, but the others are there if you would like to experiment with them.\n",
    "\n",
    "Unfortunately, there is some bug with the motion controller where it will crash every now and again, which completely restarts the machine. If this happens during an experiment, there really isn't anything you can do about it, since it could crash in the middle of a movement step. This would give a maximum error of `dtheta` for all subsequent angles, which could be quite an issue. If it does happen to crash, it is best to simply restart the experiment... ¯\\\\\\_(ツ)\\_/¯"
   ]
  },
  {
   "cell_type": "code",
   "execution_count": null,
   "metadata": {},
   "outputs": [
    {
     "data": {
      "image/png": "[encoded data removed]",
      "text/plain": [
       "<Figure size 432x288 with 1 Axes>"
      ]
     },
     "metadata": {
      "needs_background": "light"
     },
     "output_type": "display_data"
    }
   ],
   "source": [
    "# Move to the starting position, and set what our final angle should be\n",
    "stage.moveAbsolute(50)\n",
    "desiredAngle = -50\n",
    "\n",
    "# What step size we use when changing the angle\n",
    "dtheta = -1\n",
    "# How many measurements we average over at each angle\n",
    "averagingMeasurements = 20\n",
    "\n",
    "# We probably don't actually need all of these values, but\n",
    "# I will leave them in as an example. Usually the beam gaussian\n",
    "# center is what I fit the curve too, since it is the least volatile.\n",
    "peakPositionArr = []\n",
    "centroidPosArr = []\n",
    "gausCenterArr = []\n",
    "\n",
    "peakPositionSTDArr = []\n",
    "centroidPosSTDArr = []\n",
    "gausCenterSTDArr = []\n",
    "\n",
    "temperatureArr = []\n",
    "humidityArr = []\n",
    "\n",
    "angleArr = []\n",
    "\n",
    "while stage.getAngle() > desiredAngle:\n",
    "    peakIndividualMeasurements = np.zeros(averagingMeasurements)\n",
    "    centroidIndividualMeasurements = np.zeros(averagingMeasurements)\n",
    "    gausIndividualMeasurements = np.zeros(averagingMeasurements)\n",
    "    \n",
    "    for i in range(averagingMeasurements):\n",
    "        measure = None\n",
    "        # Sometimes we can get an error for the measurement\n",
    "        # (eg. if the drum speed isn't high enough) so we\n",
    "        # may have to measure multiple times to get a good one.\n",
    "        while measure == None:\n",
    "            measure = bp2Device.getMeasurement()\n",
    "            \n",
    "        peakIndividualMeasurements[i] = measure[\"peak\"][0]\n",
    "        centroidIndividualMeasurements[i] = measure[\"centroid\"][0]\n",
    "        gausIndividualMeasurements[i] = measure[\"gaussian_fit_params_x\"][0]\n",
    "        \n",
    "    peakPositionArr.append(np.mean(peakIndividualMeasurements))\n",
    "    peakPositionSTDArr.append(np.std(peakIndividualMeasurements))\n",
    "    \n",
    "    centroidPosArr.append(np.mean(centroidIndividualMeasurements))\n",
    "    centroidPosSTDArr.append(np.std(centroidIndividualMeasurements))\n",
    "    \n",
    "    gausCenterArr.append(np.mean(gausIndividualMeasurements))\n",
    "    gausCenterSTDArr.append(np.std(gausIndividualMeasurements))\n",
    "    \n",
    "    # The tinkerforge bricks use some weird units, so we have to\n",
    "    # divide by these constants\n",
    "    temperatureArr.append(temperatureSensor.get_temperature()/100)\n",
    "    humidityArr.append(humiditySensor.get_humidity()/10)\n",
    "    \n",
    "    # Note that this will get the *actual* angle of the stage,\n",
    "    # as opposed to the theoretical angle, so we shouldn't worry\n",
    "    # about inaccuracies of the movement.\n",
    "    angleArr.append(stage.getAngle())\n",
    "\n",
    "    # Below here is just for plotting\n",
    "    clear_output(wait=True)\n",
    "    plt.errorbar(angleArr, centroidPosArr, yerr=centroidPosSTDArr)\n",
    "    plt.xlabel(\"Angle [deg]\")\n",
    "    plt.ylabel(\"Beam Center Position [um]\")\n",
    "    plt.show()\n",
    "\n",
    "    # As mentioned above, there can be some issues with the motion controller\n",
    "    # crashing, but there isn't much we can do about it, since it would\n",
    "    # introduce a significant error into the angle measurements.\n",
    "    try:\n",
    "        stage.moveRelative(dtheta)\n",
    "    except:\n",
    "        # If it crashes, we have to restart\n",
    "        clear_output(wait=True)\n",
    "        print('Motion controller crashed...')\n",
    "        print('Please restart the experiment')\n",
    "        break"
   ]
  },
  {
   "cell_type": "markdown",
   "metadata": {},
   "source": [
    "This will save the data into a file, so it can be analyzed in the `CurveFitting` notebook.\n",
    "\n",
    "It isn't a bad idea to include the wavelength of the laser in the name, since this information isn't included anywhere else."
   ]
  },
  {
   "cell_type": "code",
   "execution_count": 5,
   "metadata": {},
   "outputs": [],
   "source": [
    "with open('data/ruby_flat_700nm_2.txt', 'w') as outFile:\n",
    "    outFile.write('angle,peak_position,peak_std,gauss_center,gauss_std,centroid,centroid_std,temp,humid')\n",
    "    for i in range(len(angleArr)):\n",
    "        outFile.write(f'\\n{angleArr[i]},{peakPositionArr[i]},{peakPositionSTDArr[i]},{gausCenterArr[i]},{gausCenterSTDArr[i]},{centroidPosArr[i]},{centroidPosSTDArr[i]},{temperatureArr[i]},{humidityArr[i]}')"
   ]
  },
  {
   "cell_type": "markdown",
   "metadata": {},
   "source": [
    "Especially if you are going to using the instruments in another script/program, you should disconnect them properly."
   ]
  },
  {
   "cell_type": "code",
   "execution_count": 6,
   "metadata": {},
   "outputs": [],
   "source": [
    "stage.disconnect()\n",
    "bp2Device.disconnect()\n",
    "ipcon.disconnect()"
   ]
  },
  {
   "cell_type": "code",
   "execution_count": null,
   "metadata": {},
   "outputs": [],
   "source": []
  }
 ],
 "metadata": {
  "kernelspec": {
   "display_name": "Python 3",
   "language": "python",
   "name": "python3"
  },
  "language_info": {
   "codemirror_mode": {
    "name": "ipython",
    "version": 3
   },
   "file_extension": ".py",
   "mimetype": "text/x-python",
   "name": "python",
   "nbconvert_exporter": "python",
   "pygments_lexer": "ipython3",
   "version": "3.8.3"
  }
 },
 "nbformat": 4,
 "nbformat_minor": 5
}
